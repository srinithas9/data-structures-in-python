{
 "cells": [
  {
   "cell_type": "code",
   "execution_count": 4,
   "id": "cdc75921",
   "metadata": {},
   "outputs": [
    {
     "name": "stdout",
     "output_type": "stream",
     "text": [
      "no of vowels are: 8\n"
     ]
    }
   ],
   "source": [
    "#Q2)  Write a code to count the number of vowels in a string\n",
    "#vowels-->a,e,i,o,u\n",
    "str2=\"data analytics course\"\n",
    "vowels=\"aeiouAEIOU\"\n",
    "count=0\n",
    "for i in str2:\n",
    "    if i in  vowels:\n",
    "        count=count+1\n",
    "print(\"no of vowels are:\",count)        \n",
    "\n"
   ]
  },
  {
   "cell_type": "code",
   "execution_count": 1,
   "id": "0a767e19",
   "metadata": {},
   "outputs": [
    {
     "data": {
      "text/plain": [
       "'slliswp'"
      ]
     },
     "execution_count": 1,
     "metadata": {},
     "output_type": "execute_result"
    }
   ],
   "source": [
    "#Q1) Write a code to reverse a string\n",
    "str1=\"pwsills\"\n",
    "str1[::-1]"
   ]
  },
  {
   "cell_type": "code",
   "execution_count": 5,
   "id": "5c0b661e",
   "metadata": {},
   "outputs": [
    {
     "name": "stdout",
     "output_type": "stream",
     "text": [
      "it is a palindrome!\n"
     ]
    }
   ],
   "source": [
    "# Q3) Write a code to check if a given string is a palindrome or not\n",
    "str2=\"mam\"\n",
    "str_rev =str2[::-1]\n",
    "count=0\n",
    "if str2 in str_rev:\n",
    "    print(\"it is a palindrome!\")\n",
    "else:\n",
    "    print(\"it is not a palindrome\")        "
   ]
  },
  {
   "cell_type": "code",
   "execution_count": 6,
   "id": "dd9dbf6e",
   "metadata": {},
   "outputs": [
    {
     "name": "stdout",
     "output_type": "stream",
     "text": [
      "stop and post  are anagrams of each other\n"
     ]
    }
   ],
   "source": [
    "#Q4)  Write a code to check if two given strings are anagrams of each other\n",
    "#rearranging of words\n",
    "str1=\"stop\"\n",
    "str2=\"post\"\n",
    "if sorted(str1.lower())==sorted(str2.lower()):\n",
    "    print(f\"{str1} and {str2}  are anagrams of each other\")\n",
    "else:\n",
    "    print(\"they are not anagram to each other\")    "
   ]
  },
  {
   "cell_type": "code",
   "execution_count": 7,
   "id": "9970a24a",
   "metadata": {},
   "outputs": [
    {
     "name": "stdout",
     "output_type": "stream",
     "text": [
      "the great word is at index 12\n"
     ]
    }
   ],
   "source": [
    "#Q5)  Write a code to find all occurrences of a given substring within another string\n",
    "str1=\"pwskills is great platform to learn!\"\n",
    "given_str=\"great\"\n",
    "if given_str in  str1:\n",
    "    print(f\"the {given_str} word is at index\" ,str1.index(given_str))\n",
    "\n"
   ]
  },
  {
   "cell_type": "code",
   "execution_count": 8,
   "id": "e4bee8e2",
   "metadata": {},
   "outputs": [
    {
     "name": "stdout",
     "output_type": "stream",
     "text": [
      "Compressed string is: c4a4b3\n"
     ]
    }
   ],
   "source": [
    "#Q6)  Write a code to perform basic string compression using the counts of repeated characters\n",
    "s = \"aaaabbbcccc\"\n",
    "compressed = \"\"\n",
    "\n",
    "for i in set(s):\n",
    "    count = s.count(i)\n",
    "    compressed += i + str(count)\n",
    "\n",
    "print(\"Compressed string is:\", compressed)\n",
    "    "
   ]
  },
  {
   "cell_type": "code",
   "execution_count": 9,
   "id": "75b3c0f5",
   "metadata": {},
   "outputs": [
    {
     "name": "stdout",
     "output_type": "stream",
     "text": [
      "True\n"
     ]
    }
   ],
   "source": [
    "#Q7)  Write a code to determine if a string has all unique characters\n",
    "a=\"pink\"\n",
    "is_unique=True\n",
    "for i in a:\n",
    "    if(a.count(i)>1):\n",
    "        is_unique=False\n",
    "        break\n",
    "print(is_unique)       "
   ]
  },
  {
   "cell_type": "code",
   "execution_count": 10,
   "id": "989a6a38",
   "metadata": {},
   "outputs": [
    {
     "name": "stdout",
     "output_type": "stream",
     "text": [
      "PWSKILLS\n",
      "data analytics\n"
     ]
    }
   ],
   "source": [
    "#Q8)  Write a code to convert a given string to uppercase or lowercase\n",
    "name=\"pwskills\"\n",
    "course=\"DATA ANALYTICS\"\n",
    "uppercase=name.upper()\n",
    "lowercase=course.lower()\n",
    "print(uppercase)\n",
    "print(lowercase)"
   ]
  },
  {
   "cell_type": "code",
   "execution_count": 11,
   "id": "44b290c5",
   "metadata": {},
   "outputs": [
    {
     "data": {
      "text/plain": [
       "10"
      ]
     },
     "execution_count": 11,
     "metadata": {},
     "output_type": "execute_result"
    }
   ],
   "source": [
    "#Q9)  Write a code to count the number of words in a string\n",
    "hobby=\"travelling\"\n",
    "count=len(hobby)\n",
    "count"
   ]
  },
  {
   "cell_type": "code",
   "execution_count": 12,
   "id": "b3efe5a5",
   "metadata": {},
   "outputs": [
    {
     "data": {
      "text/plain": [
       "'hello,world'"
      ]
     },
     "execution_count": 12,
     "metadata": {},
     "output_type": "execute_result"
    }
   ],
   "source": [
    "#Q10)  Write a code to concatenate two strings without using the + operator\n",
    "s1=\"hello\"\n",
    "s2=\"world\"\n",
    "s3=(f\"{s1},{s2}\")\n",
    "s3\n"
   ]
  },
  {
   "cell_type": "code",
   "execution_count": 13,
   "id": "42d40631",
   "metadata": {},
   "outputs": [
    {
     "name": "stdout",
     "output_type": "stream",
     "text": [
      "2\n",
      "3\n",
      "4\n",
      "7\n",
      "8\n",
      "9\n"
     ]
    }
   ],
   "source": [
    "#Q11)  Write a code to remove all occurrences of a specific element from a list\n",
    "list=[1,2,3,4,1,1,7,8,9]\n",
    "for lis in list:\n",
    "    if(lis>1):\n",
    "        print(lis)"
   ]
  },
  {
   "cell_type": "code",
   "execution_count": 14,
   "id": "edc39633",
   "metadata": {},
   "outputs": [
    {
     "data": {
      "text/plain": [
       "100"
      ]
     },
     "execution_count": 14,
     "metadata": {},
     "output_type": "execute_result"
    }
   ],
   "source": [
    "#Q12)  Implement a code to find the second largest number in a given list of integers\n",
    "list=[45,78,99,100,10,250,12,98,89,00]\n",
    "big=sorted(list,reverse=True)\n",
    "big[1]\n",
    "\n"
   ]
  },
  {
   "cell_type": "code",
   "execution_count": 15,
   "id": "cd4f440c",
   "metadata": {},
   "outputs": [
    {
     "name": "stdout",
     "output_type": "stream",
     "text": [
      "Element counts: {1: 3, 2: 1, 3: 1, 4: 1, 7: 1, 8: 1, 9: 1}\n"
     ]
    }
   ],
   "source": [
    "#Q13)  Create a code to count the occurrences of each element in a list and return a dictionary with elements as keys and their counts as values\n",
    "list = [1, 2, 3, 4, 1, 1, 7, 8, 9]\n",
    "count_dict = {}\n",
    "\n",
    "for element in list:\n",
    "    count_dict[element] = count_dict.get(element, 0) + 1\n",
    "\n",
    "print(\"Element counts:\", count_dict)\n",
    "\n",
    "        "
   ]
  },
  {
   "cell_type": "code",
   "execution_count": 16,
   "id": "e8d4d9ab",
   "metadata": {},
   "outputs": [
    {
     "data": {
      "text/plain": [
       "[10, 7.9, 11, 10, 9, 1]"
      ]
     },
     "execution_count": 16,
     "metadata": {},
     "output_type": "execute_result"
    }
   ],
   "source": [
    "#Q14)  Write a code to reverse a list in-place without using any built-in reverse functions\n",
    "list=[1,9,10,11,7.9,10]\n",
    "list[::-1]"
   ]
  },
  {
   "cell_type": "code",
   "execution_count": 17,
   "id": "d989e339",
   "metadata": {},
   "outputs": [
    {
     "data": {
      "text/plain": [
       "[4, 5, 8.9, 9.0, 10, 10, 10.5, 15, 99, 100]"
      ]
     },
     "execution_count": 17,
     "metadata": {},
     "output_type": "execute_result"
    }
   ],
   "source": [
    "#Q15)  Write a code to merge two sorted lists into a single sorted list\n",
    "l1=[15,10,9.0,10.5,99,100]\n",
    "l2=[4,5,8.9,10]\n",
    "l=sorted(l1)\n",
    "s=sorted(l2)\n",
    "merge=(l+s)\n",
    "merged=sorted(merge)\n",
    "merged\n"
   ]
  },
  {
   "cell_type": "code",
   "execution_count": 18,
   "id": "a587586e",
   "metadata": {},
   "outputs": [
    {
     "name": "stdout",
     "output_type": "stream",
     "text": [
      "intersection: [10, 11]\n"
     ]
    }
   ],
   "source": [
    "#Q16) Implement a code to find the intersection of two given lists\n",
    "list1=[7,8,9,10,11]\n",
    "list2=[6,4,10,11]\n",
    "inter=[x for x in list1 if x in list2]\n",
    "print(\"intersection:\",inter)\n"
   ]
  },
  {
   "cell_type": "code",
   "execution_count": 19,
   "id": "3147a9a8",
   "metadata": {},
   "outputs": [
    {
     "name": "stdout",
     "output_type": "stream",
     "text": [
      "[1, 2, 3, 4, 5]\n"
     ]
    }
   ],
   "source": [
    "#Q17) Implement a code to find and remove duplicates from a list while preserving the original order of elements\n",
    "list=[1,2,3,1,4,5,1]\n",
    "lis=[]\n",
    "for i in list:\n",
    "    if i  not in lis:\n",
    "        lis.append(i)\n",
    "print(lis)  "
   ]
  },
  {
   "cell_type": "code",
   "execution_count": 20,
   "id": "d8f5b9a1",
   "metadata": {},
   "outputs": [
    {
     "name": "stdout",
     "output_type": "stream",
     "text": [
      "False\n",
      "True\n"
     ]
    }
   ],
   "source": [
    "#Q18)  Create a code to check if a given list is sorted (either in ascending or descending order) or not\n",
    "#example-1\n",
    "list=[33,99,109,9.5,67] \n",
    "list1=sorted(list)\n",
    "if (list==list1):\n",
    "    print(True)\n",
    "else:    \n",
    "    print(False)\n",
    "#example-2    \n",
    "list2=[9,10,11,12,13,14]  \n",
    "list3=sorted(list2)  \n",
    "if (list2==list3):\n",
    "    print(True)\n",
    "else:\n",
    "    print(False)    "
   ]
  },
  {
   "cell_type": "code",
   "execution_count": 21,
   "id": "b5084171",
   "metadata": {},
   "outputs": [
    {
     "name": "stdout",
     "output_type": "stream",
     "text": [
      "['coding', 'travelling', 'dancing', 'singing', 'reading']\n"
     ]
    }
   ],
   "source": [
    "#Q19)  Create a code to find the union of two lists without duplicates\n",
    "list1=[\"coding\",\"travelling\",\"dancing\"]\n",
    "list2=[\"singing\",\"reading\",\"coding\"]\n",
    "union=list1.copy()\n",
    "for i in list2:\n",
    "    if i not in union:\n",
    "        union.append(i)\n",
    "print(union)        \n",
    "    \n"
   ]
  },
  {
   "cell_type": "code",
   "execution_count": 22,
   "id": "b3196b89",
   "metadata": {},
   "outputs": [
    {
     "name": "stdout",
     "output_type": "stream",
     "text": [
      "[1, 2, 9, 3, 4, 8, 5, 6, 7]\n"
     ]
    }
   ],
   "source": [
    "#Q20)  Write a code to shuffle a given list randomly without using any built-in shuffle functions\n",
    "\n",
    "list=[1, 2, 3, 4, 5, 6, 7, 8, 9]\n",
    "shuffled = []\n",
    "\n",
    "while list:\n",
    "    ele=list.pop()\n",
    "    shuffled.insert(len(list)// 2,ele)\n",
    "\n",
    "print(shuffled)\n",
    "\n"
   ]
  },
  {
   "cell_type": "code",
   "execution_count": 23,
   "id": "cd786b18",
   "metadata": {},
   "outputs": [
    {
     "name": "stdout",
     "output_type": "stream",
     "text": [
      "(6, 5)\n"
     ]
    }
   ],
   "source": [
    "\n",
    "#21)QWrite a code that takes two tuples as input and returns a new tuple containing elements that are  common to both input tuples\n",
    "tuples=(12,10,9,7,6,5)\n",
    "tuples1=(8,6,5,1,2,3)\n",
    "com=tuple(x for x in tuples if x in tuples1)\n",
    "print(com)\n",
    "\n",
    "\n",
    "\n"
   ]
  },
  {
   "cell_type": "code",
   "execution_count": null,
   "id": "947f4cd4",
   "metadata": {},
   "outputs": [],
   "source": [
    "#Q22) Create a code that prompts the user to enter two sets of integers separated by commas. Then, print the  intersection of these two sets\n",
    "set1=set(input(\"Enter elements of the first set separated by comma: \").split(\",\"))\n",
    "set2=set(input(\"Enter elements of the second set separated by comma: \").split(\",\"))\n",
    "intersection=set1 & set2\n",
    "print( intersection)\n"
   ]
  },
  {
   "cell_type": "code",
   "execution_count": null,
   "id": "9a37e7da",
   "metadata": {},
   "outputs": [],
   "source": [
    "#Q23) Write a code to concatenate two tuples. The function should take two tuples as input and return a new  tuple containing elements from both input tuples.\n",
    "t1=(1,2,3,4,5,)\n",
    "t2=(6,7,8,9,10)\n",
    "t3=t1+t2\n",
    "print(t3)\n",
    "\n"
   ]
  },
  {
   "cell_type": "code",
   "execution_count": null,
   "id": "43192118",
   "metadata": {},
   "outputs": [],
   "source": [
    "#Q24)Develop a code that prompts the user to input two sets of strings. Then, print the elements that are present in the first set but not in the second set\n",
    "set1=set(input(\"Enter elements of the first set separated by spaces: \").split())\n",
    "set2=set(input(\"Enter elements of the second set separated by spaces: \").split())\n",
    "difference= set1 - set2\n",
    "print(difference)"
   ]
  },
  {
   "cell_type": "code",
   "execution_count": null,
   "id": "d6a63d4c",
   "metadata": {},
   "outputs": [],
   "source": [
    "#Q25) Create a code that takes a tuple and two integers as input. The function should return a new tuple containing elements from the original tuple within the specified range of indices\n",
    "input_tuple=tuple(input(\"Enter elements of the tuple separated by commas: \").split(','))\n",
    "start_index=int(input(\"Enter the start index: \"))\n",
    "end_index=int(input(\"Enter the end index: \"))\n",
    "result_tuple=input_tuple[start_index:end_index]\n",
    "print(result_tuple)"
   ]
  },
  {
   "cell_type": "code",
   "execution_count": null,
   "id": "438817ec",
   "metadata": {},
   "outputs": [],
   "source": [
    "#Q26) Write a code that prompts the user to input two sets of characters. Then, print the union of these two sets\n",
    "set1=set(input(\"Enter elements of the first set of characters separated by comma: \").split(\",\"))\n",
    "set2=set(input(\"Enter elements of the second set characters seperated by spaces: \").split(\",\"))\n",
    "union=set1|set2\n",
    "print(union)\n"
   ]
  },
  {
   "cell_type": "code",
   "execution_count": null,
   "id": "dae056c3",
   "metadata": {},
   "outputs": [],
   "source": [
    "#Q27)Develop a code that takes a tuple of integers as input. The function should return the maximum and minimum values from the tuple using tuple unpacking\n",
    "tup1=tuple(input(\"Enter elements: \").split(\",\"))\n",
    "a=max(tup1)\n",
    "b=min(tup1)\n",
    "print(a)\n",
    "print(b)\n",
    "\n"
   ]
  },
  {
   "cell_type": "code",
   "execution_count": null,
   "id": "c34ea24d",
   "metadata": {},
   "outputs": [],
   "source": [
    " #Q28)create a code that defines two sets of integers. Then, print the union, intersection, and difference of these two sets\n",
    "s1={99,100,77,5,4,3,2}\n",
    "s2={12,56,77,5,1,2}\n",
    "union=s1|s2\n",
    "inter=s1&s2\n",
    "diff=s1-s2\n",
    "print(\"union\",union)\n",
    "print(\"intersection\",inter)\n",
    "print(\"difference\",diff)\n",
    "\n",
    " "
   ]
  },
  {
   "cell_type": "code",
   "execution_count": null,
   "id": "51a61024",
   "metadata": {},
   "outputs": [],
   "source": [
    "#Q29)Write a code that takes a tuple and an element as input. The function should return the count of occurrences of the given element in the tuple\n",
    "tu=(5,)\n",
    "tu.count(5)\n"
   ]
  },
  {
   "cell_type": "code",
   "execution_count": null,
   "id": "466ab6fb",
   "metadata": {},
   "outputs": [],
   "source": [
    "#Q30)Develop a code that prompts the user to input two sets of strings. Then, print the symmetric difference of these two sets\n",
    "set1 = set(input(\"Enter elements of the first set separated by comma: \").split(\",\"))\n",
    "set2 = set(input(\"Enter elements of the second set separated by comma: \").split(\",\"))\n",
    "symetric_diff=set1^set2\n",
    "print( symetric_diff)"
   ]
  },
  {
   "cell_type": "code",
   "execution_count": null,
   "id": "1f05599a",
   "metadata": {},
   "outputs": [],
   "source": [
    " #Q31)Write a code that takes a list of words as input and returns a dictionary where the keys are unique words and the values are the frequencies of those words in the input list\n",
    "# list1=[\"coding\",\"dancing\"]\n",
    "# list2=[\"hobby1\",\"hobby2\"]\n",
    "# dic={hobby:intrest for  hobby,intrest in zip(list2,list1)}\n",
    "# print(dic)\n",
    "#or\n",
    "list_of_tuples = [('hobby1', \"coding\"), ('hobby2', \"dancing\"), ('hobby3', \"painting\")]\n",
    "dictionary = dict(list_of_tuples)\n",
    "print(dictionary)"
   ]
  },
  {
   "cell_type": "code",
   "execution_count": null,
   "id": "cabbd1ab",
   "metadata": {},
   "outputs": [],
   "source": [
    "#Q32) Write a code that takes two dictionaries as input and merges them into a single dictionary. If there are common keys, the values should be added together\n",
    "d1={\"name\":\"ajay\",\"age\":20,\"mail\":\"az@gmail.com\"}\n",
    "d2={\"branch\":\"CSE\",\"percentage\":95}\n",
    "dic=d1|d2\n",
    "print(dic)"
   ]
  },
  {
   "cell_type": "code",
   "execution_count": null,
   "id": "d3a87ca0",
   "metadata": {},
   "outputs": [],
   "source": [
    "#Q33)Write a code to access a value in a nested dictionary. The function should take the dictionary and a list of keys as input, and return the corresponding value. If any of the keys do not exist in the dictionary, the function should return None\n",
    "nested_dic={\n",
    "    'a': {\n",
    "        'b': {\n",
    "            'c': 'd'\n",
    "        }\n",
    "    }\n",
    "}\n",
    "keys=['a', 'b', 'c']\n",
    "\n",
    "value=nested_dic\n",
    "for key in keys:\n",
    "    value=value.get(key,None)\n",
    "    if value is None:\n",
    "        break\n",
    "\n",
    "print(\"Value:\",value)\n",
    "\n"
   ]
  },
  {
   "cell_type": "code",
   "execution_count": null,
   "id": "d1435d6a",
   "metadata": {},
   "outputs": [],
   "source": [
    "#Q34)Write a code that takes a dictionary as input and returns a sorted version of it based on the values. You can choose whether to sort in ascending or descending order\n",
    "my_dict = {'b': 2, 'a': 1, 'c': 3}\n",
    "sorted_items = sorted(my_dict.items())\n",
    "sorted_dict = sorted_items\n",
    "print(sorted_dict)"
   ]
  },
  {
   "cell_type": "code",
   "execution_count": null,
   "id": "8b65bb91",
   "metadata": {},
   "outputs": [],
   "source": [
    "#Q35)Write a code that inverts a dictionary, swapping keys and values. Ensure that the inverted dictionary \n",
    "#correctly handles cases where multiple keys have the same value by storing the keys as a list in the \n",
    "#inverted dictionary.\n",
    "dictionary = {\"name\":\"ajay\",\"age\":20,\"course\":\"data science\",\"student_name\":\"ajay\"}\n",
    "inverted = {}\n",
    "for key in dictionary:\n",
    "    value = dictionary[key]\n",
    "    if value not in inverted:\n",
    "        inverted[value] = []\n",
    "    inverted [value].append(key)\n",
    "print(\"Inverted dictionary:\", inverted)\n",
    "\n",
    "\n",
    "\n"
   ]
  }
 ],
 "metadata": {
  "kernelspec": {
   "display_name": "Python 3",
   "language": "python",
   "name": "python3"
  },
  "language_info": {
   "codemirror_mode": {
    "name": "ipython",
    "version": 3
   },
   "file_extension": ".py",
   "mimetype": "text/x-python",
   "name": "python",
   "nbconvert_exporter": "python",
   "pygments_lexer": "ipython3",
   "version": "3.13.0"
  }
 },
 "nbformat": 4,
 "nbformat_minor": 5
}
